{
 "cells": [
  {
   "cell_type": "markdown",
   "metadata": {},
   "source": [
    "convert an image into RGB with no transperancy"
   ]
  },
  {
   "cell_type": "code",
   "execution_count": 66,
   "metadata": {},
   "outputs": [
    {
     "name": "stdout",
     "output_type": "stream",
     "text": [
      "(1280, 1280, 3)\n",
      "4915200\n"
     ]
    }
   ],
   "source": [
    "import cv2\n",
    "img_changed = cv2.imread('input/heart.jpeg',1)\n",
    "cv2.imwrite('output/heart1.jpg',img_changed)\n",
    "print(img_changed.shape)\n",
    "#here 3=> rgb values for coloured img\n",
    "print(img_changed.size)"
   ]
  },
  {
   "cell_type": "markdown",
   "metadata": {},
   "source": [
    "convert an image into greyscale"
   ]
  },
  {
   "cell_type": "code",
   "execution_count": 67,
   "metadata": {},
   "outputs": [
    {
     "name": "stdout",
     "output_type": "stream",
     "text": [
      "(1280, 1280)\n",
      "1638400\n"
     ]
    }
   ],
   "source": [
    "import cv2\n",
    "img_gray = cv2.imread('input/heart.jpeg',0)\n",
    "cv2.imwrite('output/heart0.jpg',img_gray)\n",
    "print(img_gray.shape)\n",
    "print(img_gray.size)"
   ]
  },
  {
   "cell_type": "markdown",
   "metadata": {},
   "source": [
    "convert an image into RGB unchanged"
   ]
  },
  {
   "cell_type": "code",
   "execution_count": 68,
   "metadata": {},
   "outputs": [
    {
     "name": "stdout",
     "output_type": "stream",
     "text": [
      "(1280, 1280, 3)\n",
      "4915200\n"
     ]
    }
   ],
   "source": [
    "import cv2\n",
    "img_unchanged = cv2.imread('input/heart.jpeg',-1)\n",
    "cv2.imwrite('output/heart-1.jpg',img_unchanged)\n",
    "print(img_unchanged.shape)\n",
    "print(img_unchanged.size)"
   ]
  },
  {
   "cell_type": "markdown",
   "metadata": {},
   "source": [
    "convert BGR image into HSV"
   ]
  },
  {
   "cell_type": "code",
   "execution_count": 69,
   "metadata": {},
   "outputs": [
    {
     "name": "stdout",
     "output_type": "stream",
     "text": [
      "(1280, 1280, 3)\n",
      "4915200\n"
     ]
    }
   ],
   "source": [
    "import cv2\n",
    "hsv = cv2.cvtColor(img_changed, cv2.COLOR_BGR2HSV)\n",
    "cv2.imwrite('output/hearthsv.jpg',hsv)\n",
    "print(hsv.shape)\n",
    "print(hsv.size)"
   ]
  },
  {
   "cell_type": "markdown",
   "metadata": {},
   "source": [
    "Gaussian thresholding"
   ]
  },
  {
   "cell_type": "code",
   "execution_count": 70,
   "metadata": {},
   "outputs": [
    {
     "data": {
      "text/plain": [
       "True"
      ]
     },
     "execution_count": 70,
     "metadata": {},
     "output_type": "execute_result"
    }
   ],
   "source": [
    "import cv2\n",
    "gauss_th = cv2.adaptiveThreshold(img_gray,255,cv2.ADAPTIVE_THRESH_GAUSSIAN_C,\\\n",
    "            cv2.THRESH_BINARY,11,2)\n",
    "cv2.imwrite('output/heart-gauss-threshold.jpg',gauss_th)"
   ]
  },
  {
   "cell_type": "markdown",
   "metadata": {},
   "source": [
    "Otsu thresholding"
   ]
  },
  {
   "cell_type": "code",
   "execution_count": 71,
   "metadata": {},
   "outputs": [
    {
     "data": {
      "text/plain": [
       "True"
      ]
     },
     "execution_count": 71,
     "metadata": {},
     "output_type": "execute_result"
    }
   ],
   "source": [
    "import cv2\n",
    "re3,otsu_th = cv2.threshold(gauss_th,0,255,cv2.THRESH_OTSU)\n",
    "cv2.imwrite('output/heart-otsu-threshold.jpg',otsu_th)"
   ]
  },
  {
   "cell_type": "markdown",
   "metadata": {},
   "source": [
    "Canny edge detection"
   ]
  },
  {
   "cell_type": "markdown",
   "metadata": {},
   "source": [
    "Canny( detected_edges, detected_edges, lowThreshold, lowThreshold*ratio, kernel_size );\n",
    "where the arguments are:\n",
    "\n",
    "detected_edges: Source image, grayscale\n",
    "detected_edges: Output of the detector (can be the same as the input)\n",
    "lowThreshold: The value entered by the user moving the Trackbar\n",
    "highThreshold: Set in the program as three times the lower threshold (following Canny’s recommendation)\n",
    "kernel_size: We defined it to be 3 (the size of the Sobel kernel to be used internally)"
   ]
  },
  {
   "cell_type": "code",
   "execution_count": 73,
   "metadata": {},
   "outputs": [
    {
     "data": {
      "text/plain": [
       "True"
      ]
     },
     "execution_count": 73,
     "metadata": {},
     "output_type": "execute_result"
    }
   ],
   "source": [
    "import cv2\n",
    "#First argument is our input image. Second and third arguments are our minVal and maxVal respectively\n",
    "edges = cv2.Canny(img_gray,50,150)\n",
    "cv2.imwrite('output/heart-canny-edges.jpg',edges)"
   ]
  },
  {
   "cell_type": "code",
   "execution_count": null,
   "metadata": {
    "collapsed": true
   },
   "outputs": [],
   "source": []
  }
 ],
 "metadata": {
  "kernelspec": {
   "display_name": "Python [default]",
   "language": "python",
   "name": "python3"
  },
  "language_info": {
   "codemirror_mode": {
    "name": "ipython",
    "version": 3
   },
   "file_extension": ".py",
   "mimetype": "text/x-python",
   "name": "python",
   "nbconvert_exporter": "python",
   "pygments_lexer": "ipython3",
   "version": "3.6.3"
  }
 },
 "nbformat": 4,
 "nbformat_minor": 2
}
