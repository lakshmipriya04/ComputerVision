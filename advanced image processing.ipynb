{
 "cells": [
  {
   "cell_type": "markdown",
   "metadata": {},
   "source": [
    "Canny Edge Detection"
   ]
  },
  {
   "cell_type": "code",
   "execution_count": 1,
   "metadata": {
    "collapsed": true
   },
   "outputs": [],
   "source": [
    "import cv2"
   ]
  },
  {
   "cell_type": "code",
   "execution_count": 2,
   "metadata": {
    "collapsed": true
   },
   "outputs": [],
   "source": [
    "image = cv2.imread('input/redcar.png')"
   ]
  },
  {
   "cell_type": "code",
   "execution_count": 3,
   "metadata": {
    "collapsed": true
   },
   "outputs": [],
   "source": [
    "#only for TrackBar process\n",
    "def nothing(x):\n",
    "    pass"
   ]
  },
  {
   "cell_type": "code",
   "execution_count": 4,
   "metadata": {
    "collapsed": true
   },
   "outputs": [],
   "source": [
    "switch = '0 : OFF \\n1 : ON'\n",
    "cv2.namedWindow('canny')\n",
    "cv2.createTrackbar(switch, 'canny', 0, 1, nothing)\n",
    "\n",
    "# add lower and upper threshold slidebars to \"canny\"\n",
    "cv2.createTrackbar('lower', 'canny', 0, 255, nothing)\n",
    "cv2.createTrackbar('upper', 'canny', 0, 255, nothing)\n",
    "\n",
    "# Infinite loop until we hit the escape key on keyboard\n",
    "while(1):\n",
    "\n",
    "    # get current positions of four trackbars\n",
    "    lower = cv2.getTrackbarPos('lower', 'canny')\n",
    "    upper = cv2.getTrackbarPos('upper', 'canny')\n",
    "    s = cv2.getTrackbarPos(switch, 'canny')\n",
    "\n",
    "    if s == 0:\n",
    "        edges = image\n",
    "    else:\n",
    "        edges = cv2.Canny(image, lower, upper)\n",
    "\n",
    "    # display images\n",
    "    cv2.imshow('canny', edges)\n",
    "    k = cv2.waitKey(1) & 0xFF\n",
    "    if k == 27:   # hit escape to quit\n",
    "        break\n",
    "cv2.destroyAllWindows()"
   ]
  },
  {
   "cell_type": "markdown",
   "metadata": {},
   "source": [
    "Threshold"
   ]
  },
  {
   "cell_type": "code",
   "execution_count": 4,
   "metadata": {
    "collapsed": true
   },
   "outputs": [],
   "source": [
    "import cv2\n",
    "import numpy as np"
   ]
  },
  {
   "cell_type": "code",
   "execution_count": 5,
   "metadata": {
    "collapsed": true
   },
   "outputs": [],
   "source": [
    "#only for TrackBar process\n",
    "def nothing(x):\n",
    "    pass"
   ]
  },
  {
   "cell_type": "code",
   "execution_count": 6,
   "metadata": {},
   "outputs": [],
   "source": [
    "image_org = cv2.imread('input/redcar.png')\n",
    "image = cv2.cvtColor(image_org,cv2.COLOR_RGB2GRAY)"
   ]
  },
  {
   "cell_type": "code",
   "execution_count": 7,
   "metadata": {
    "collapsed": true
   },
   "outputs": [],
   "source": [
    "maxval = 255\n",
    "thresh=0\n",
    "type_thresh = 2\n",
    "cv2.namedWindow(\"Adjust\",cv2.WINDOW_AUTOSIZE); #Threshold settings window\n",
    "cv2.createTrackbar(\"Thresh\", \"Adjust\", thresh, 200, nothing);\n",
    "cv2.createTrackbar(\"Max\", \"Adjust\", maxval, 255, nothing);\n",
    "\n",
    "#Threshold methods correspond integer numbers in OpenCV Library,(binary threshold,otsu threshold etc)\n",
    "#And threshold methods summable with each other like; cv2.BINARY_THRESH + cv2.OTSU_THRESH or 1 + 4\n",
    "cv2.createTrackbar(\"Type\", \"Adjust\", type_thresh, 4, nothing); \n",
    "\n",
    "Threshold = np.zeros(image.shape, np.uint8)\n",
    "\n",
    "# Infinite loop until we hit the escape key on keyboard\n",
    "while 1:\n",
    "    thresh = cv2.getTrackbarPos('Thresh', 'Adjust')\n",
    "    maxval = cv2.getTrackbarPos('Max', 'Adjust')\n",
    "    type_thresh = cv2.getTrackbarPos('Type', 'Adjust')\n",
    "    retval,Threshold = cv2.threshold(image,thresh,maxval,type_thresh)\n",
    "    # display images\n",
    "    cv2.imshow('Adjust', Threshold)\n",
    "    cv2.imshow('Original', image_org)\n",
    "    k = cv2.waitKey(1) & 0xFF\n",
    "    if k == 27:   # hit escape to quit\n",
    "        break\n",
    "        \n",
    "cv2.destroyAllWindows()"
   ]
  },
  {
   "cell_type": "code",
   "execution_count": null,
   "metadata": {
    "collapsed": true
   },
   "outputs": [],
   "source": []
  }
 ],
 "metadata": {
  "kernelspec": {
   "display_name": "Python [default]",
   "language": "python",
   "name": "python3"
  },
  "language_info": {
   "codemirror_mode": {
    "name": "ipython",
    "version": 3
   },
   "file_extension": ".py",
   "mimetype": "text/x-python",
   "name": "python",
   "nbconvert_exporter": "python",
   "pygments_lexer": "ipython3",
   "version": "3.6.3"
  }
 },
 "nbformat": 4,
 "nbformat_minor": 2
}
