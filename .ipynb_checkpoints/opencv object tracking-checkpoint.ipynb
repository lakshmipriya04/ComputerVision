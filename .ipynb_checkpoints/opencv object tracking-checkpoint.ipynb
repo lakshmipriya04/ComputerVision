{
 "cells": [
  {
   "cell_type": "code",
   "execution_count": 1,
   "metadata": {
    "collapsed": true
   },
   "outputs": [],
   "source": [
    "import numpy as np\n",
    "import cv2\n",
    "import sys"
   ]
  },
  {
   "cell_type": "code",
   "execution_count": 2,
   "metadata": {
    "collapsed": true
   },
   "outputs": [],
   "source": [
    "video_path = 'input/traffic.mp4'\n",
    "#for windows\n",
    "cv2.ocl.setUseOpenCL(False)\n",
    "\n",
    "#read video file\n",
    "cap = cv2.VideoCapture(video_path)"
   ]
  },
  {
   "cell_type": "code",
   "execution_count": 3,
   "metadata": {
    "collapsed": true
   },
   "outputs": [],
   "source": [
    "fgbg = cv2.createBackgroundSubtractorMOG2()"
   ]
  },
  {
   "cell_type": "markdown",
   "metadata": {},
   "source": [
    "1.looping each frame:\n",
    "- if ret is true than no error with cap.isOpened\n",
    "- ret is boolean parameter, if there’s nothing wrong ret = True otherwise ret=False, IF ret = False, frame will be none\n",
    "\n",
    "2.Apply background substraction:\n",
    "background subtraction is a method to separate background(static object) and foreground (moving object).\n",
    "3.apply contours on foreground\n",
    "4.looping each contours"
   ]
  },
  {
   "cell_type": "code",
   "execution_count": null,
   "metadata": {
    "collapsed": true
   },
   "outputs": [],
   "source": [
    "while (cap.isOpened):\n",
    "    ret, frame = cap.read()\n",
    "    if ret==True:\n",
    "        #apply background substraction\n",
    "        fgmask = fgbg.apply(frame)\n",
    "        (im2, contours, hierarchy) = cv2.findContours(fgmask.copy(), cv2.RETR_EXTERNAL,cv2.CHAIN_APPROX_SIMPLE)\n",
    "        for c in contours:\n",
    "            if cv2.contourArea(c) < 500:\n",
    "                continue\n",
    "            #get bounding box from countour\n",
    "            (x, y, w, h) = cv2.boundingRect(c)\n",
    "            #draw bounding box\n",
    "            cv2.rectangle(frame, (x, y), (x + w, y + h), (0, 255, 0), 2)\n",
    "        cv2.imshow('foreground and background',fgmask)\n",
    "        cv2.imshow('rgb',frame)\n",
    "        if cv2.waitKey(1) & 0xFF == ord(\"q\"):\n",
    "            break\n",
    "            \n",
    "cap.release()\n",
    "cv2.destroyAllWindows()"
   ]
  }
 ],
 "metadata": {
  "kernelspec": {
   "display_name": "Python [default]",
   "language": "python",
   "name": "python3"
  },
  "language_info": {
   "codemirror_mode": {
    "name": "ipython",
    "version": 3
   },
   "file_extension": ".py",
   "mimetype": "text/x-python",
   "name": "python",
   "nbconvert_exporter": "python",
   "pygments_lexer": "ipython3",
   "version": "3.6.3"
  }
 },
 "nbformat": 4,
 "nbformat_minor": 2
}
