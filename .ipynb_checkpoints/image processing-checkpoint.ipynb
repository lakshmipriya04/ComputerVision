{
 "cells": [
  {
   "cell_type": "markdown",
   "metadata": {},
   "source": [
    "convert an image into RGB with no transperancy"
   ]
  },
  {
   "cell_type": "code",
   "execution_count": 3,
   "metadata": {},
   "outputs": [
    {
     "name": "stdout",
     "output_type": "stream",
     "text": [
      "(1280, 1280, 3)\n",
      "4915200\n"
     ]
    }
   ],
   "source": [
    "import cv2\n",
    "img_changed = cv2.imread('input/heart.jpeg',1)\n",
    "cv2.imwrite('output/heart1.jpg',img_changed)\n",
    "print(img_changed.shape)\n",
    "#here 3=> rgb values for coloured img\n",
    "print(img_changed.size)"
   ]
  },
  {
   "cell_type": "markdown",
   "metadata": {},
   "source": [
    "convert an image into greyscale"
   ]
  },
  {
   "cell_type": "code",
   "execution_count": 4,
   "metadata": {},
   "outputs": [
    {
     "name": "stdout",
     "output_type": "stream",
     "text": [
      "(1280, 1280)\n",
      "1638400\n"
     ]
    }
   ],
   "source": [
    "import cv2\n",
    "img_gray = cv2.imread('input/heart.jpeg',0)\n",
    "cv2.imwrite('output/heart0.jpg',img_gray)\n",
    "print(img_gray.shape)\n",
    "print(img_gray.size)"
   ]
  },
  {
   "cell_type": "markdown",
   "metadata": {},
   "source": [
    "convert an image into RGB unchanged"
   ]
  },
  {
   "cell_type": "code",
   "execution_count": 5,
   "metadata": {},
   "outputs": [
    {
     "name": "stdout",
     "output_type": "stream",
     "text": [
      "(1280, 1280, 3)\n",
      "4915200\n"
     ]
    }
   ],
   "source": [
    "import cv2\n",
    "img_unchanged = cv2.imread('input/heart.jpeg',-1)\n",
    "cv2.imwrite('output/heart-1.jpg',img_unchanged)\n",
    "print(img_unchanged.shape)\n",
    "print(img_unchanged.size)"
   ]
  },
  {
   "cell_type": "markdown",
   "metadata": {},
   "source": [
    "convert BGR image into HSV\n",
    "- hsv useful in color filtering\n",
    "H: 0-180,\n",
    "S: 0-255,\n",
    "V: 0-255."
   ]
  },
  {
   "cell_type": "code",
   "execution_count": 6,
   "metadata": {},
   "outputs": [
    {
     "name": "stdout",
     "output_type": "stream",
     "text": [
      "(1280, 1280, 3)\n",
      "4915200\n"
     ]
    }
   ],
   "source": [
    "import cv2\n",
    "hsv = cv2.cvtColor(img_unchanged, cv2.COLOR_BGR2HSV)\n",
    "cv2.imwrite('output/hearthsv.jpg',hsv)\n",
    "#hue channel\n",
    "cv2.imwrite('output/heart-hue.jpg',hsv[:,:,0])\n",
    "#saturation channel\n",
    "cv2.imwrite('output/heart-saturation.jpg',hsv[:,:,1])\n",
    "#value channel (brightness) - almost greyscale \n",
    "cv2.imwrite('output/heart-value.jpg',hsv[:,:,2])\n",
    "\n",
    "print(hsv.shape)\n",
    "print(hsv.size)"
   ]
  },
  {
   "cell_type": "markdown",
   "metadata": {},
   "source": [
    "Individual channels in RGB image"
   ]
  },
  {
   "cell_type": "code",
   "execution_count": 7,
   "metadata": {},
   "outputs": [
    {
     "name": "stdout",
     "output_type": "stream",
     "text": [
      "(1280, 1280, 3)\n",
      "(1280, 1280)\n"
     ]
    },
    {
     "data": {
      "text/plain": [
       "True"
      ]
     },
     "execution_count": 7,
     "metadata": {},
     "output_type": "execute_result"
    }
   ],
   "source": [
    "import cv2\n",
    "image = cv2.imread('input/heart.jpeg')\n",
    "\n",
    "#opencv split function splits img into each color index\n",
    "B,G,R = cv2.split(image)\n",
    "\n",
    "print (image.shape)\n",
    "print (B.shape)\n",
    "\n",
    "#after split since one dimension - gonna be greyscale img only.\n",
    "cv2.imwrite('output/heart-blue.jpg',B)\n",
    "cv2.imwrite('output/heart-green.jpg',G)\n",
    "cv2.imwrite('output/heart-red.jpg',R)\n",
    "\n",
    "#remake original  image\n",
    "merged = cv2.merge([B,G,R])\n",
    "cv2.imwrite('output/heart-merged.jpg',merged)\n",
    "\n",
    "# To amplify blue color : adds more tinge of blue color\n",
    "# for every blue value<255 in matrix, adds 100. max: 255\n",
    "merged_bluey = cv2.merge([B+100,G,R])\n",
    "cv2.imwrite('output/heart-merged-bluey.jpg',merged_bluey)\n",
    "\n",
    "# To amplify green color\n",
    "merged_greeny = cv2.merge([B,G+100,R])\n",
    "cv2.imwrite('output/heart-merged-greeny.jpg',merged_greeny)\n",
    "\n",
    "# To amplify red color\n",
    "merged_red = cv2.merge([B,G,R+100])\n",
    "cv2.imwrite('output/heart-merged-red.jpg',merged_red)"
   ]
  },
  {
   "cell_type": "markdown",
   "metadata": {},
   "source": [
    "Getting B,G,R colored image using numpy zeros"
   ]
  },
  {
   "cell_type": "code",
   "execution_count": 8,
   "metadata": {},
   "outputs": [
    {
     "name": "stdout",
     "output_type": "stream",
     "text": [
      "(1280, 1280, 3)\n",
      "(1280, 1280)\n"
     ]
    },
    {
     "data": {
      "text/plain": [
       "True"
      ]
     },
     "execution_count": 8,
     "metadata": {},
     "output_type": "execute_result"
    }
   ],
   "source": [
    "import cv2\n",
    "import numpy as np\n",
    "\n",
    "image = cv2.imread('input/heart.jpeg')\n",
    "B,G,R = cv2.split(image)\n",
    "print(image.shape)\n",
    "print(image.shape[:2])\n",
    "\n",
    "#create a matrix of xeros with dimensions of image heightxwidth\n",
    "zeros = np.zeros(image.shape[:2],dtype='uint8')\n",
    "\n",
    "cv2.imwrite('output/heart-zeros-blue.jpg',cv2.merge([B,zeros,zeros]))\n",
    "cv2.imwrite('output/heart-zeros-green.jpg',cv2.merge([zeros,G,zeros]))\n",
    "cv2.imwrite('output/heart-zeros-red.jpg',cv2.merge([zeros,zeros,R]))"
   ]
  },
  {
   "cell_type": "markdown",
   "metadata": {},
   "source": [
    "Histograms\n",
    "\n",
    "cv2.calcHist(images, channels, mask, histSize, ranges[, hist[, accumulate]])\n",
    "\n",
    "    images : it is the source image of type uint8 or float32. it should be given in square brackets, ie, “[img]”.\n",
    "    channels : it is also given in square brackets. It is the index of channel for which we calculate histogram. For example, if input is grayscale image, its value is [0]. For color image, you can pass [0], [1] or [2] to calculate histogram of blue, green or red channel respectively.\n",
    "    mask : mask image. To find histogram of full image, it is given as “None”. But if you want to find histogram of particular region of image, you have to create a mask image for that and give it as mask.\n",
    "    histSize : this represents our BIN count. Need to be given in square brackets. For full scale, we pass [256].\n",
    "    ranges : this is our RANGE. Normally, it is [0,256].\n"
   ]
  },
  {
   "cell_type": "code",
   "execution_count": 10,
   "metadata": {},
   "outputs": [
    {
     "data": {
      "image/png": "[encoded data removed]",
      "text/plain": [
       "<matplotlib.figure.Figure at 0xea6709e9b0>"
      ]
     },
     "metadata": {},
     "output_type": "display_data"
    },
    {
     "data": {
      "image/png": "[encoded data removed]",
      "text/plain": [
       "<matplotlib.figure.Figure at 0xea6acad550>"
      ]
     },
     "metadata": {},
     "output_type": "display_data"
    }
   ],
   "source": [
    "import cv2\n",
    "import numpy as np\n",
    "from matplotlib import pyplot as plt\n",
    "\n",
    "image = cv2.imread('input/heart.jpeg')\n",
    "histogram = cv2.calcHist([image],[0],None,[256],[0,256])\n",
    "\n",
    "#plot histogram, ravel() flatens our img array\n",
    "plt.hist(image.ravel(),256,[0,256]);\n",
    "plt.show()\n",
    "\n",
    "#to view separate channels\n",
    "color=('b','g','r')\n",
    "\n",
    "#separate colors & plot each in histogram\n",
    "for i, col in enumerate(color):\n",
    "    histogram2 = cv2.calcHist([image],[i],None,[256],[0,256])\n",
    "    plt.plot(histogram2,color=col)\n",
    "    plt.xlim([0,256])\n",
    "    \n",
    "plt.show()"
   ]
  },
  {
   "cell_type": "markdown",
   "metadata": {},
   "source": [
    "Drawing images & shapes"
   ]
  },
  {
   "cell_type": "code",
   "execution_count": 11,
   "metadata": {},
   "outputs": [
    {
     "data": {
      "text/plain": [
       "True"
      ]
     },
     "execution_count": 11,
     "metadata": {},
     "output_type": "execute_result"
    }
   ],
   "source": [
    "#black square\n",
    "import cv2\n",
    "import numpy as np\n",
    "\n",
    "#create a black image with color\n",
    "#512 x 512 => height x width\n",
    "image = np.zeros((512,512,3),np.uint8)\n",
    "\n",
    "#black & white\n",
    "image_bw = np.zeros((512,512),np.uint8)\n",
    "\n",
    "cv2.imwrite('output/black-sq-color.jpg',image)\n",
    "cv2.imwrite('output/black-sq-B&W.jpg',image_bw)\n"
   ]
  },
  {
   "cell_type": "markdown",
   "metadata": {},
   "source": [
    "Gaussian thresholding"
   ]
  },
  {
   "cell_type": "code",
   "execution_count": null,
   "metadata": {},
   "outputs": [],
   "source": [
    "import cv2\n",
    "gauss_th = cv2.adaptiveThreshold(img_gray,255,cv2.ADAPTIVE_THRESH_GAUSSIAN_C,\\\n",
    "            cv2.THRESH_BINARY,11,2)\n",
    "cv2.imwrite('output/heart-gauss-threshold.jpg',gauss_th)"
   ]
  },
  {
   "cell_type": "markdown",
   "metadata": {},
   "source": [
    "Otsu thresholding"
   ]
  },
  {
   "cell_type": "code",
   "execution_count": null,
   "metadata": {},
   "outputs": [],
   "source": [
    "import cv2\n",
    "re3,otsu_th = cv2.threshold(gauss_th,0,255,cv2.THRESH_OTSU)\n",
    "cv2.imwrite('output/heart-otsu-threshold.jpg',otsu_th)"
   ]
  },
  {
   "cell_type": "markdown",
   "metadata": {},
   "source": [
    "Canny edge detection"
   ]
  },
  {
   "cell_type": "markdown",
   "metadata": {},
   "source": [
    "Canny( detected_edges, detected_edges, lowThreshold, lowThreshold*ratio, kernel_size );\n",
    "where the arguments are:\n",
    "\n",
    "detected_edges: Source image, grayscale\n",
    "detected_edges: Output of the detector (can be the same as the input)\n",
    "lowThreshold: The value entered by the user moving the Trackbar\n",
    "highThreshold: Set in the program as three times the lower threshold (following Canny’s recommendation)\n",
    "kernel_size: We defined it to be 3 (the size of the Sobel kernel to be used internally)"
   ]
  },
  {
   "cell_type": "code",
   "execution_count": null,
   "metadata": {},
   "outputs": [],
   "source": [
    "import cv2\n",
    "#First argument is our input image. Second and third arguments are our minVal and maxVal respectively\n",
    "edges = cv2.Canny(img_gray,50,150)\n",
    "cv2.imwrite('output/heart-canny-edges.jpg',edges)"
   ]
  },
  {
   "cell_type": "code",
   "execution_count": null,
   "metadata": {
    "collapsed": true
   },
   "outputs": [],
   "source": []
  }
 ],
 "metadata": {
  "kernelspec": {
   "display_name": "Python [default]",
   "language": "python",
   "name": "python3"
  },
  "language_info": {
   "codemirror_mode": {
    "name": "ipython",
    "version": 3
   },
   "file_extension": ".py",
   "mimetype": "text/x-python",
   "name": "python",
   "nbconvert_exporter": "python",
   "pygments_lexer": "ipython3",
   "version": "3.6.3"
  }
 },
 "nbformat": 4,
 "nbformat_minor": 2
}
